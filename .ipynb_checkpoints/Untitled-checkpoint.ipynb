{
 "cells": [],
 "metadata": {
  "environment": {
   "name": "pytorch-gpu.1-4.m56",
   "type": "gcloud",
   "uri": "gcr.io/deeplearning-platform-release/pytorch-gpu.1-4:m56"
  }
 },
 "nbformat": 4,
 "nbformat_minor": 4
}
